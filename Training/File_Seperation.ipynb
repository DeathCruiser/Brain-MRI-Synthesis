{
 "cells": [
  {
   "cell_type": "code",
   "execution_count": 1,
   "id": "d7048aea-cf9a-49e5-b442-e5a469a5b0f7",
   "metadata": {},
   "outputs": [],
   "source": [
    "import os\n",
    "import shutil\n",
    "import random"
   ]
  },
  {
   "cell_type": "code",
   "execution_count": 25,
   "id": "cbaef20b-f529-454a-b9cf-5e970abc5986",
   "metadata": {},
   "outputs": [],
   "source": [
    "def copy_random_files(src_folder1, src_folder2, output_folder, x_percent):\n",
    "    # Ensure the output directory exists\n",
    "    if not os.path.exists(output_folder):\n",
    "        os.makedirs(output_folder)\n",
    "    \n",
    "    # Get the list of .png files from both source folders\n",
    "    files_folder1 = [f1 for f1 in os.listdir(src_folder1) if f1.endswith('.png')]\n",
    "    files_folder2 = [f2 for f2 in os.listdir(src_folder2) if f2.endswith('.png')]\n",
    "    \n",
    "    # Calculate how many files to copy from each folder\n",
    "    num_files_from_folder1 = int(x_percent * len(files_folder1) / 100)\n",
    "    num_files_from_folder2 = int((100 - x_percent) * len(files_folder2) / 100)\n",
    "\n",
    "    # print(f\"---------{num_files_from_folder1}---------\")\n",
    "    # print(f\"----------------{num_files_from_folder2}----------------------\")\n",
    "\n",
    "    # Adjust if the calculated number is larger than available files\n",
    "    num_files_from_folder1 = min(num_files_from_folder1, len(files_folder1))\n",
    "    num_files_from_folder2 = min(num_files_from_folder2, len(files_folder2))\n",
    "\n",
    "    # Randomly select files from each folder\n",
    "    if files_folder1 and num_files_from_folder1 > 0:\n",
    "        selected_files_folder1 = random.sample(files_folder1, num_files_from_folder1)\n",
    "    else:\n",
    "        selected_files_folder1 = []\n",
    "\n",
    "    if files_folder2 and num_files_from_folder2 > 0:\n",
    "        selected_files_folder2 = random.sample(files_folder2, num_files_from_folder2)\n",
    "    else:\n",
    "        selected_files_folder2 = []\n",
    "\n",
    "    # Copy the selected files to the output folder\n",
    "    for file in selected_files_folder1:\n",
    "        shutil.copy(os.path.join(src_folder1, file), os.path.join(output_folder, file))\n",
    "    \n",
    "    for file in selected_files_folder2:\n",
    "        shutil.copy(os.path.join(src_folder2, file), os.path.join(output_folder, file))\n",
    "    \n",
    "    print(f'Copied {len(selected_files_folder1)} files from {src_folder1} and {len(selected_files_folder2)} files from {src_folder2} to {output_folder}')\n"
   ]
  },
  {
   "cell_type": "code",
   "execution_count": 28,
   "id": "0b40b338-13d1-4575-bb94-a53dff9e4b12",
   "metadata": {},
   "outputs": [
    {
     "name": "stdout",
     "output_type": "stream",
     "text": [
      "Copied 124 files from D:\\NITR_Things\\Subjects\\Mtech_Research\\SIRE\\Medical Image Sythesis\\Brain Tumor GAN test\\Brain_Tumor_MRI_Dataset\\brain_tumor_dataset\\Training\\..\\real_train\\yes\\ and 0 files from D:\\NITR_Things\\Subjects\\Mtech_Research\\SIRE\\Medical Image Sythesis\\Brain Tumor GAN test\\Brain_Tumor_MRI_Dataset\\brain_tumor_dataset\\Training\\..\\generated_train\\generated_yes\\ to D:\\NITR_Things\\Subjects\\Mtech_Research\\SIRE\\Medical Image Sythesis\\Brain Tumor GAN test\\Brain_Tumor_MRI_Dataset\\brain_tumor_dataset\\Training\\100Real_0Gen\\Train\\Yes\\\n",
      "Copied 78 files from D:\\NITR_Things\\Subjects\\Mtech_Research\\SIRE\\Medical Image Sythesis\\Brain Tumor GAN test\\Brain_Tumor_MRI_Dataset\\brain_tumor_dataset\\Training\\..\\real_train\\no\\ and 0 files from D:\\NITR_Things\\Subjects\\Mtech_Research\\SIRE\\Medical Image Sythesis\\Brain Tumor GAN test\\Brain_Tumor_MRI_Dataset\\brain_tumor_dataset\\Training\\..\\generated_train\\generated_no\\ to D:\\NITR_Things\\Subjects\\Mtech_Research\\SIRE\\Medical Image Sythesis\\Brain Tumor GAN test\\Brain_Tumor_MRI_Dataset\\brain_tumor_dataset\\Training\\100Real_0Gen\\Train\\No\\\n"
     ]
    }
   ],
   "source": [
    "YES_SRC_REAL = os.getcwd() + \"\\\\..\\\\real_train\\\\yes\\\\\"\n",
    "YES_SRC_GEN = os.getcwd() + \"\\\\..\\\\generated_train\\\\generated_yes\\\\\"\n",
    "NO_SRC_REAL = os.getcwd() + \"\\\\..\\\\real_train\\\\no\\\\\"\n",
    "NO_SRC_GEN = os.getcwd() + \"\\\\..\\\\generated_train\\\\generated_no\\\\\"\n",
    "YES_OUTPUT_FOLDER = os.getcwd() + \"\\\\100Real_0Gen\\\\Train\\\\Yes\\\\\"\n",
    "NO_OUTPUT_FOLDER = os.getcwd() + \"\\\\100Real_0Gen\\\\Train\\\\No\\\\\"\n",
    "copy_random_files(YES_SRC_REAL, YES_SRC_GEN, YES_OUTPUT_FOLDER, 100)\n",
    "copy_random_files(NO_SRC_REAL, NO_SRC_GEN, NO_OUTPUT_FOLDER, 100)"
   ]
  },
  {
   "cell_type": "code",
   "execution_count": null,
   "id": "068907c9-e265-4ba8-865d-166b230e30d7",
   "metadata": {},
   "outputs": [],
   "source": []
  }
 ],
 "metadata": {
  "kernelspec": {
   "display_name": "Python 3 (ipykernel)",
   "language": "python",
   "name": "python3"
  },
  "language_info": {
   "codemirror_mode": {
    "name": "ipython",
    "version": 3
   },
   "file_extension": ".py",
   "mimetype": "text/x-python",
   "name": "python",
   "nbconvert_exporter": "python",
   "pygments_lexer": "ipython3",
   "version": "3.11.9"
  }
 },
 "nbformat": 4,
 "nbformat_minor": 5
}
